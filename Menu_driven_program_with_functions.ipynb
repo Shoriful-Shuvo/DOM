{
  "nbformat": 4,
  "nbformat_minor": 0,
  "metadata": {
    "colab": {
      "provenance": [],
      "include_colab_link": true
    },
    "kernelspec": {
      "name": "python3",
      "display_name": "Python 3"
    },
    "language_info": {
      "name": "python"
    }
  },
  "cells": [
    {
      "cell_type": "markdown",
      "metadata": {
        "id": "view-in-github",
        "colab_type": "text"
      },
      "source": [
        "<a href=\"https://colab.research.google.com/github/Shoriful-Shuvo/learn-Python/blob/main/Menu_driven_program_with_functions.ipynb\" target=\"_parent\"><img src=\"https://colab.research.google.com/assets/colab-badge.svg\" alt=\"Open In Colab\"/></a>"
      ]
    },
    {
      "cell_type": "markdown",
      "source": [
        "**Functions**\n",
        "\n",
        "\n",
        "\n",
        "1.   Pre defined: print(), int(), float() etc.\n",
        "2.   User defined: Functions that are made based on user's use case.\n",
        "\n"
      ],
      "metadata": {
        "id": "XhU9ttAS7bsz"
      }
    },
    {
      "cell_type": "code",
      "execution_count": null,
      "metadata": {
        "colab": {
          "base_uri": "https://localhost:8080/"
        },
        "id": "DQ0J8Y7b4iQY",
        "outputId": "88cad264-3fdd-4eed-eac4-f771b06df370"
      },
      "outputs": [
        {
          "output_type": "stream",
          "name": "stdout",
          "text": [
            "Enter a value: 5\n",
            "Odd\n",
            "Even\n"
          ]
        }
      ],
      "source": [
        "x = int(input(\"Enter a value: \"))\n",
        "\n",
        "if x % 2 == 0:\n",
        "  print(\"Even\")\n",
        "else:\n",
        "  print(\"Odd\")\n",
        "\n",
        "x = x + 5 #x = 5 + 5\n",
        "\n",
        "if x % 2 == 0:\n",
        "  print(\"Even\")\n",
        "else:\n",
        "  print(\"Odd\")\n",
        "\n",
        "#Repetition of code\n"
      ]
    },
    {
      "cell_type": "code",
      "source": [
        "#Let's prepare even_odd() function\n",
        "\n",
        "\n",
        "def even_odd(x): #defining a function\n",
        "  if x % 2 == 0:\n",
        "    print(\"Even\")\n",
        "  else:\n",
        "    print(\"Odd\")\n",
        "\n",
        "even_odd(10) #calling a function\n",
        "even_odd(5) #calling a function\n"
      ],
      "metadata": {
        "colab": {
          "base_uri": "https://localhost:8080/"
        },
        "id": "cpNTfl1N_BzM",
        "outputId": "cbbf97f6-3640-4cc4-a0bd-76cacfe48dda"
      },
      "execution_count": null,
      "outputs": [
        {
          "output_type": "stream",
          "name": "stdout",
          "text": [
            "Even\n",
            "Odd\n"
          ]
        }
      ]
    },
    {
      "cell_type": "code",
      "source": [
        "\n",
        "Price_list = [\"01\",\"Banana\", 5.00, \"unit\", \"02\", \"Mango\", 20.00, \"kg\", \"03\", \"Apple\", 15.00, \"kg\", \"04\", \"Papaya\", 25.00, \"unit\", \"05\", \"Guava\", 15.00, \"kg\"]\n",
        "\n",
        "\n",
        "\n",
        "def findingPrice(item):\n",
        "  found = 1\n",
        "  for i in range ( 0, len(Price_list), 4):\n",
        "    if (Price_list[i+1]) == item :\n",
        "     print ('Price of', item, 'is Taka only' , Price_list[i+2])\n",
        "     found = 0\n",
        "  if found == 1:\n",
        "    print('Not Found.')\n",
        "\n",
        "def printingList(Price_list):\n",
        "  for i in range ( 0, len(Price_list), 4):\n",
        "    print(\"{0:3} {1:10} {2:8} {3:5} \".format(Price_list[i], Price_list[i+1], Price_list[i+2], Price_list[i+3]))\n",
        "\n",
        "#menu driven program\n",
        "print(\"Welcome to List Management System\")\n",
        "print(\"1-->Print the list in a formatted way\")\n",
        "print(\"2-->Find price of a item\")\n",
        "print(\"0-->Exit\")\n",
        "\n",
        "while True:\n",
        "\n",
        "\n",
        "  choice = int(input(\"Enter your choice: \"))\n",
        "\n",
        "  if choice == 1:\n",
        "    printingList(Price_list)\n",
        "  elif choice == 2:\n",
        "    item = input(\"Enter the item name: \")\n",
        "    findingPrice(item)\n",
        "  elif choice == 0:\n",
        "    break\n",
        "  else:\n",
        "    print(\"Invalid choice\")\n",
        "\n"
      ],
      "metadata": {
        "colab": {
          "base_uri": "https://localhost:8080/"
        },
        "id": "DrFjK3UEBJNc",
        "outputId": "af5a632d-1a46-41de-90ce-f0175a110aad"
      },
      "execution_count": null,
      "outputs": [
        {
          "name": "stdout",
          "output_type": "stream",
          "text": [
            "Welcome to List Management System\n",
            "1-->Print the list in a formatted way\n",
            "2-->Find price of a item\n",
            "0-->Exit\n",
            "Enter your choice: 7\n",
            "Invalid choice\n",
            "Enter your choice: 0\n"
          ]
        }
      ]
    }
  ]
}