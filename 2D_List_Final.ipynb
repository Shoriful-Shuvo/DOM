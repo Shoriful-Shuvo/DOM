{
  "nbformat": 4,
  "nbformat_minor": 0,
  "metadata": {
    "colab": {
      "provenance": [],
      "include_colab_link": true
    },
    "kernelspec": {
      "name": "python3",
      "display_name": "Python 3"
    },
    "language_info": {
      "name": "python"
    }
  },
  "cells": [
    {
      "cell_type": "markdown",
      "metadata": {
        "id": "view-in-github",
        "colab_type": "text"
      },
      "source": [
        "<a href=\"https://colab.research.google.com/github/Shoriful-Shuvo/DOM/blob/main/2D_List_Final.ipynb\" target=\"_parent\"><img src=\"https://colab.research.google.com/assets/colab-badge.svg\" alt=\"Open In Colab\"/></a>"
      ]
    },
    {
      "cell_type": "markdown",
      "source": [
        "**2D list is basically some 1D lists inside a bigger list. So, 2D list consists of several 1D lists.**"
      ],
      "metadata": {
        "id": "y5K7fUwhVIbm"
      }
    },
    {
      "cell_type": "code",
      "source": [
        "#How to construct a 2D list normally\n",
        "\n",
        "'''Think about this matrix:\n",
        "\n",
        "1 2 3\n",
        "4 5 6\n",
        "7 8 9\n",
        "\n",
        "'''\n",
        "#Now let's create the matrix in 2D list\n",
        "\n",
        "x = [[1,2,3],\n",
        "     [4,5,6],\n",
        "     [7,8,9]]\n",
        "\n",
        "\n",
        "\n",
        "#x = [[1,2,3],[4,5,6],[7,8,9]]\n"
      ],
      "metadata": {
        "id": "qjWQVu7HVUAH"
      },
      "execution_count": null,
      "outputs": []
    },
    {
      "cell_type": "markdown",
      "source": [
        "**So, we have to create several 1D lists and separate them using commas, and then take all the 1D lists inside a bigger list.**\n",
        "\n",
        "**Now, how can we print this 2D list?**"
      ],
      "metadata": {
        "id": "Nv2g8Wy9Vuw_"
      }
    },
    {
      "cell_type": "code",
      "source": [
        "#Method 1 - As usual (Horizontally)\n",
        "'''Comments:\n",
        "x = [[1,2,3],\n",
        "     [4,5,6],\n",
        "     [7,8,9]]\n",
        "'''\n",
        "print(x)\n",
        "\n",
        "#As we can see, the 1D lists are printed horizontally"
      ],
      "metadata": {
        "colab": {
          "base_uri": "https://localhost:8080/"
        },
        "id": "FjRMGwxiWGIP",
        "outputId": "b8a66954-9300-406d-914e-008193bb625a"
      },
      "execution_count": null,
      "outputs": [
        {
          "output_type": "stream",
          "name": "stdout",
          "text": [
            "[[1, 2, 3], [4, 5, 6], [7, 8, 9]]\n"
          ]
        }
      ]
    },
    {
      "cell_type": "markdown",
      "source": [
        "**Now, how can we print the 2D list in the same format as the matrix? Which is vertically without any commas?**"
      ],
      "metadata": {
        "id": "PK8kA4nrWcCp"
      }
    },
    {
      "cell_type": "code",
      "source": [
        "# Now, this is our new 2D list. See carefully, the 2nd row now has 4 values (3 columns)\n",
        "\n",
        "x = [[1,2,3],\n",
        "     [4,5,6],\n",
        "     [7,8,9,10]]\n",
        "#Method 2 -> Printing vertically\n",
        "\n",
        "for i in range(len(x)): #Outer loop controls rows --> This list has 2 rows (Index wise) but, In normal observation, 3 rows\n",
        "\n",
        "  for j in range(len(x[i])): #Inner loop controls columns -> The first two rows have two columns and last row has 3 columns (Index wise)\n",
        "    #Also, this loop will determine how many values will be printed in each row based on the column numbers\n",
        "    print(x[i][j], end = \" \") #Printing in a matrix format (Vertically)\n",
        "\n",
        "  print() #Creating a new line after each row is finished"
      ],
      "metadata": {
        "colab": {
          "base_uri": "https://localhost:8080/"
        },
        "id": "33DyggDMWj63",
        "outputId": "ee77cae8-c493-414c-dc34-685beeb1b324"
      },
      "execution_count": null,
      "outputs": [
        {
          "output_type": "stream",
          "name": "stdout",
          "text": [
            "1 2 3 \n",
            "4 5 6 \n",
            "7 8 9 10 \n"
          ]
        }
      ]
    },
    {
      "cell_type": "markdown",
      "source": [
        "**How to access values in 2D list?**\n",
        "\n",
        "**Let's talk about index in terms of 2D lists**"
      ],
      "metadata": {
        "id": "RJOCvoqhb-lf"
      }
    },
    {
      "cell_type": "code",
      "source": [
        "#Let's again consider this list:\n",
        "\n",
        "x = [[1,2,3],\n",
        "     [4,5,6],\n",
        "     [7,8,9]]\n",
        "\n",
        "#We already know how to find index number of a particular value in 1D list\n",
        "#But how to find the index of a value in 2D list?\n",
        "\n",
        "#Let's think about the value '6'\n",
        "\n",
        "#The value '6' is in -> 1st row (Index wise), normally 2nd row, and in 2nd column (index wise), normally 3rd column\n",
        "#To determine the index of 2D list, we need to know the row and column number of a value just as we did above\n",
        "\n",
        "#So the index of the value '6' will be x[row number of the value][column number of the value]\n",
        "\n",
        "print(x[1][2]) #this will print out '6', that's how indexing work in 2D lists."
      ],
      "metadata": {
        "colab": {
          "base_uri": "https://localhost:8080/"
        },
        "id": "yGGZR9EGjYJZ",
        "outputId": "6d98ee29-1ec2-4364-a7c2-576557f782ae"
      },
      "execution_count": null,
      "outputs": [
        {
          "output_type": "stream",
          "name": "stdout",
          "text": [
            "6\n"
          ]
        }
      ]
    },
    {
      "cell_type": "markdown",
      "source": [
        "**Now we know how to create a 2D list normally, but how to create a list based on user inputs?**\n",
        "\n",
        "**Let's see the following code:**"
      ],
      "metadata": {
        "id": "hsPzX3QVktB3"
      }
    },
    {
      "cell_type": "code",
      "source": [
        "#Code for creating 2D list using loop by taking Inputs:\n",
        "#Will not appear in exams\n",
        "\n",
        "\n",
        "R = int(input(\"Enter the number of rows:\"))\n",
        "\n",
        "C = int(input(\"Enter the number of columns:\"))\n",
        "\n",
        "# Initialize 2D list\n",
        "\n",
        "list_2d = []\n",
        "\n",
        "\n",
        "# For user input\n",
        "\n",
        "for i in range(R): # A for loop for row entries\n",
        "\n",
        "  a =[]\n",
        "\n",
        "  for j in range(C): # A for loop for column entries\n",
        "    #see how we have added the row and column number here for taking inputs\n",
        "    a.append(int(input(f'Enter value for row {i} and column {j}: ')))\n",
        "\n",
        "  list_2d.append(a)\n",
        "\n",
        "# For printing the 2d list\n",
        "print()\n",
        "print(\"***The newly created list is:***\")\n",
        "for i in range(R):\n",
        "\n",
        "  for j in range(C):\n",
        "\n",
        "    print(list_2d[i][j], end = \" \")\n",
        "\n",
        "  print()"
      ],
      "metadata": {
        "colab": {
          "base_uri": "https://localhost:8080/"
        },
        "id": "QbVH-2fYk3DA",
        "outputId": "7e3103e3-1d30-427e-8e97-470f44c9872e"
      },
      "execution_count": null,
      "outputs": [
        {
          "output_type": "stream",
          "name": "stdout",
          "text": [
            "Enter the number of rows:3\n",
            "Enter the number of columns:3\n",
            "Enter value for row 0 and column 0: 1\n",
            "Enter value for row 0 and column 1: 2\n",
            "Enter value for row 0 and column 2: 3\n",
            "Enter value for row 1 and column 0: 4\n",
            "Enter value for row 1 and column 1: 5\n",
            "Enter value for row 1 and column 2: 6\n",
            "Enter value for row 2 and column 0: 7\n",
            "Enter value for row 2 and column 1: 8\n",
            "Enter value for row 2 and column 2: 9\n",
            "\n",
            "***The newly created list is:***\n",
            "1 2 3 \n",
            "4 5 6 \n",
            "7 8 9 \n"
          ]
        }
      ]
    },
    {
      "cell_type": "markdown",
      "source": [
        "**Now as we know how to create 2D list by taking inputs as well, let's move into list manipulation methods**\n",
        "\n",
        "**How can we add a new 1D list at the end of a 2D list? Let's talk about .append() method for 2D lists**\n",
        "\n",
        "*- This is useful for the final project as well*"
      ],
      "metadata": {
        "id": "Hi29Vve4lwEY"
      }
    },
    {
      "cell_type": "code",
      "source": [
        "#Let's consider this list:\n",
        "Price_list = [[\"01\", \"Banana\", 5.00, \"unit\"],\n",
        "              [\"02\", \"Mango\", 20.00, \"kg\"],\n",
        "              [\"03\", \"Apple\", 15.00, \"kg\"],\n",
        "              [\"04\", \"Papaya\", 25.00, \"unit\"],\n",
        "              [\"05\", \"Guava\", 15.00, \"kg\"]]\n",
        "#Now, we want to add another 1D list here at the end of the main list for pineapple\n",
        "#For that, first we have to create the 1D list that needs to be added\n",
        "\n",
        "new_list = [\"06\", \"Pineapple\", 500.00, \"unit\"]\n",
        "# We can also create the above list by taking inputs from user for each entries\n",
        "\n",
        "#Now, as we know, the .append() method adds a value at the end of a 1D list\n",
        "#In the same way, the .append() method will add a 1D list at the end of a 2D list as in 2D list, you can consider each 1D list a element\n",
        "\n",
        "Price_list.append(new_list) #Now, the newly created 1D list is appended. Let's see the final 2D list\n",
        "\n",
        "print(Price_list)\n",
        "#As we can see, the new 1D list is now added using the .append() method\n",
        "\n",
        "\n"
      ],
      "metadata": {
        "colab": {
          "base_uri": "https://localhost:8080/"
        },
        "id": "WntWD4jal9q5",
        "outputId": "0c8b4c34-a1de-4c6a-dc10-5751dea95ce8"
      },
      "execution_count": null,
      "outputs": [
        {
          "output_type": "stream",
          "name": "stdout",
          "text": [
            "[['01', 'Banana', 5.0, 'unit'], ['02', 'Mango', 20.0, 'kg'], ['03', 'Apple', 15.0, 'kg'], ['04', 'Papaya', 25.0, 'unit'], ['05', 'Guava', 15.0, 'kg'], ['06', 'Pineapple', 500.0, 'unit']]\n"
          ]
        }
      ]
    },
    {
      "cell_type": "markdown",
      "source": [
        "**Can we add an value at the end of a sublist(1D list) inside a 2D list?**"
      ],
      "metadata": {
        "id": "zosHydXJ0Cxl"
      }
    },
    {
      "cell_type": "code",
      "source": [
        "#Again, let's take the following list:\n",
        "\n",
        "Price_list = [[\"01\", \"Banana\", 5.00, \"unit\"],\n",
        "              [\"02\", \"Mango\", 20.00, \"kg\"],\n",
        "              [\"03\", \"Apple\", 15.00, \"kg\"],\n",
        "              [\"04\", \"Papaya\", 25.00, \"unit\"],\n",
        "              [\"05\", \"Guava\", 15.00, \"kg\"]]\n",
        "\n",
        "#Now, let's think that we have to add the color 'Yellow' at the end of the 1st sublist. See the following code:\n",
        "Price_list[0].append('Yellow')\n",
        "#Now, yellow will be added at the end of the 1st sublist\n",
        "print(Price_list)"
      ],
      "metadata": {
        "colab": {
          "base_uri": "https://localhost:8080/"
        },
        "id": "m56ujc5D0JFN",
        "outputId": "91cf82e9-4e7e-4c83-dc8c-cc0f3a5b000e"
      },
      "execution_count": null,
      "outputs": [
        {
          "output_type": "stream",
          "name": "stdout",
          "text": [
            "[['01', 'Banana', 5.0, 'unit', 'Yellow'], ['02', 'Mango', 20.0, 'kg'], ['03', 'Apple', 15.0, 'kg'], ['04', 'Papaya', 25.0, 'unit'], ['05', 'Guava', 15.0, 'kg']]\n"
          ]
        }
      ]
    },
    {
      "cell_type": "markdown",
      "source": [
        "**.insert() also works in 2D lists, but in sublists (1D lists)**\n",
        "\n",
        "**How!!??**\n",
        "\n"
      ],
      "metadata": {
        "id": "TW11pvFRIUgW"
      }
    },
    {
      "cell_type": "code",
      "source": [
        "#Again, let's take the following list:\n",
        "\n",
        "Price_list = [[\"01\", \"Banana\", 5.00, \"unit\"],\n",
        "              [\"02\", \"Mango\", 20.00, \"kg\"],\n",
        "              [\"03\", \"Apple\", 15.00, \"kg\"],\n",
        "              [\"04\", \"Papaya\", 25.00, \"unit\"],\n",
        "              [\"05\", \"Guava\", 15.00, \"kg\"]]\n",
        "\n",
        "#Now, let's think that we have to add the color 'Yellow' at the 4th position of the 1st sublist. See the following code:\n",
        "Price_list[0].insert(3,'Yellow')\n",
        "#Now, yellow will be added at the 4th position of the 1st sublist\n",
        "print(Price_list)"
      ],
      "metadata": {
        "colab": {
          "base_uri": "https://localhost:8080/"
        },
        "id": "6U8m9PMfUseR",
        "outputId": "0ce369fc-b413-4ad6-9c30-248d3984acef"
      },
      "execution_count": null,
      "outputs": [
        {
          "output_type": "stream",
          "name": "stdout",
          "text": [
            "[['01', 'Banana', 5.0, 'Yellow', 'unit'], ['02', 'Mango', 20.0, 'kg'], ['03', 'Apple', 15.0, 'kg'], ['04', 'Papaya', 25.0, 'unit'], ['05', 'Guava', 15.0, 'kg']]\n"
          ]
        }
      ]
    },
    {
      "cell_type": "markdown",
      "source": [
        "**Now let's see an example of proper formatting in 2D list:**\n"
      ],
      "metadata": {
        "id": "G9OC1UdgwoTV"
      }
    },
    {
      "cell_type": "code",
      "source": [
        "account_list = [[\"01\",\"2110987\",\"Mahbubul Haq\",  100000],\n",
        "                [\"02\",\"8363564\",\"Abdur Rahim\",0],\n",
        "                [\"03\",\"6455372\",\"Sonda Sorna\",0],\n",
        "                [\"04\",\"3654538\",\"Mushruna Rahman\",200000]]\n",
        "\n",
        "#For proper formatting\n",
        "for i in range(len(account_list)):\n",
        "\n",
        "  #for string, count from left to right\n",
        "  #for int/float, count from right to left\n",
        "  print(\"{0:3}{1:12}{2:24}{3:9}\".format(account_list[i][0],  account_list[i][1],account_list[i][2],account_list[i][3]))"
      ],
      "metadata": {
        "id": "tUbNgtVpxQLv",
        "colab": {
          "base_uri": "https://localhost:8080/"
        },
        "outputId": "ec967618-d474-45cb-fe36-e30ed31dec6f"
      },
      "execution_count": null,
      "outputs": [
        {
          "output_type": "stream",
          "name": "stdout",
          "text": [
            "01 2110987     Mahbubul Haq               100000\n",
            "02 8363564     Abdur Rahim                     0\n",
            "03 6455372     Sonda Sorna                     0\n",
            "04 3654538     Mushruna Rahman            200000\n"
          ]
        }
      ]
    },
    {
      "cell_type": "markdown",
      "source": [
        "**How do you add multiple values inside a sublist of 2D list?**\n",
        "\n",
        "**Use of .extend() method**"
      ],
      "metadata": {
        "id": "_knfK6ydDvbP"
      }
    },
    {
      "cell_type": "code",
      "source": [
        "#consider the given list\n",
        "account_list = [[\"01\",\"2110987\",\"Mahbubul Haq\",  100000],\n",
        "                [\"02\",\"8363564\",\"Abdur Rahim\",0],\n",
        "                [\"03\",\"6455372\",\"Sonda Sorna\",0],\n",
        "                [\"04\",\"3654538\",\"Mushruna Rahman\",200000]]\n",
        "\n",
        "#suppose we have to add 20000,50000,100000 as the new deposits in the 0th Sublist.\n",
        "account_list[0].extend([20000,50000,100000])\n",
        "print(account_list)\n",
        "#now the values are successfully added"
      ],
      "metadata": {
        "colab": {
          "base_uri": "https://localhost:8080/"
        },
        "id": "D1Yk1QboD4s5",
        "outputId": "6a81f743-42de-427b-c340-4069e2fd2488"
      },
      "execution_count": null,
      "outputs": [
        {
          "output_type": "stream",
          "name": "stdout",
          "text": [
            "[['01', '2110987', 'Mahbubul Haq', 100000], ['02', '8363564', 'Abdur Rahim', 0], ['03', '6455372', 'Sonda Sorna', 0], ['04', '3654538', 'Mushruna Rahman', 200000], 20000, 50000, 100000]\n"
          ]
        }
      ]
    },
    {
      "cell_type": "markdown",
      "source": [
        "**Sorting 1D Lists**"
      ],
      "metadata": {
        "id": "JGQkbJVN0Ho-"
      }
    },
    {
      "cell_type": "code",
      "source": [
        "x = [1,2,3,7,8,9,4,5]\n",
        "#sorting in ascending order\n",
        "x.sort()\n",
        "print(x)\n"
      ],
      "metadata": {
        "colab": {
          "base_uri": "https://localhost:8080/"
        },
        "id": "BABBlW5R0Bbt",
        "outputId": "81a77145-037b-4270-da34-a92bedb22665"
      },
      "execution_count": null,
      "outputs": [
        {
          "output_type": "stream",
          "name": "stdout",
          "text": [
            "[1, 2, 3, 4, 5, 7, 8, 9]\n"
          ]
        }
      ]
    },
    {
      "cell_type": "code",
      "source": [
        "x = [1,2,3,7,8,9,4,5]\n",
        "#sorting in Descending order\n",
        "x.sort(reverse = True)\n",
        "print(x)"
      ],
      "metadata": {
        "colab": {
          "base_uri": "https://localhost:8080/"
        },
        "id": "QZ12bHX70e7F",
        "outputId": "feb7570f-ca45-4caf-f67f-0214fbadca61"
      },
      "execution_count": null,
      "outputs": [
        {
          "output_type": "stream",
          "name": "stdout",
          "text": [
            "[9, 8, 7, 5, 4, 3, 2, 1]\n"
          ]
        }
      ]
    },
    {
      "cell_type": "code",
      "source": [
        "x = [1,2,3,7,8,9,4,5]\n",
        "#sorting in reverse order\n",
        "x.reverse()\n",
        "print(x)"
      ],
      "metadata": {
        "colab": {
          "base_uri": "https://localhost:8080/"
        },
        "id": "n4AIrmhR01dE",
        "outputId": "932a297a-bd06-470f-8386-640b3b1eafff"
      },
      "execution_count": null,
      "outputs": [
        {
          "output_type": "stream",
          "name": "stdout",
          "text": [
            "[5, 4, 9, 8, 7, 3, 2, 1]\n"
          ]
        }
      ]
    },
    {
      "cell_type": "markdown",
      "source": [
        "**Now, how do we sort a 2D list?**\n",
        "\n",
        "**Can we sort specific sublist?**\n",
        "\n",
        "**Or, can we sort the entire 2D list?**\n"
      ],
      "metadata": {
        "id": "jDQtqKhtEZSS"
      }
    },
    {
      "cell_type": "code",
      "source": [
        "#Sublist sorting (Ascending Order)\n",
        "\n",
        "x = [[1,2,3],[7,9,8],[6,4,5]]\n",
        "\n",
        "\n",
        "#Using loop:\n",
        "for i in range(len(x)):\n",
        "  x[i].sort() #sublist sorting\n",
        "#Normally:\n",
        "#x[1].sort()\n",
        "#x[2].sort()\n",
        "\n",
        "\n",
        "#Entire 2D list sorting\n",
        "x.sort()\n",
        "print(x)"
      ],
      "metadata": {
        "id": "5FtUSZJEEkto",
        "colab": {
          "base_uri": "https://localhost:8080/"
        },
        "outputId": "df192f50-e427-4430-f0a9-53304437df70"
      },
      "execution_count": null,
      "outputs": [
        {
          "output_type": "stream",
          "name": "stdout",
          "text": [
            "[[1, 2, 3], [4, 5, 6], [7, 8, 9]]\n"
          ]
        }
      ]
    },
    {
      "cell_type": "code",
      "source": [
        "#Sublist sorting (Descending Order)\n",
        "\n",
        "x = [[1,2,3],[7,9,8],[6,4,5]]\n",
        "\n",
        "\n",
        "#Using loop:\n",
        "for i in range(len(x)):\n",
        "  x[i].sort(reverse = True) #sublist sort in descending order\n",
        "#Normally:\n",
        "#x[1].sort()\n",
        "#x[2].sort()\n",
        "\n",
        "\n",
        "#Entire 2D list sorting in descending order\n",
        "x.sort(reverse = True)\n",
        "print(x)"
      ],
      "metadata": {
        "id": "G8PAc-QV5qev",
        "colab": {
          "base_uri": "https://localhost:8080/"
        },
        "outputId": "343e5eae-7ddc-49a2-f00a-20dc27b99a50"
      },
      "execution_count": null,
      "outputs": [
        {
          "output_type": "stream",
          "name": "stdout",
          "text": [
            "[[9, 8, 7], [6, 5, 4], [3, 2, 1]]\n"
          ]
        }
      ]
    },
    {
      "cell_type": "markdown",
      "source": [
        "**Now, how do we reverse a 2D list?**\n",
        "\n",
        "**Can we reverse specific sublist?**\n",
        "\n",
        "**Or, can we reverse the entire 2D list?**"
      ],
      "metadata": {
        "id": "BaZRsv02EtW4"
      }
    },
    {
      "cell_type": "code",
      "source": [
        "#Sublist sorting (reverse order)\n",
        "\n",
        "x = [[1,2,3],[7,9,8],[6,4,5]]\n",
        "\n",
        "\n",
        "#Using loop:\n",
        "for i in range(len(x)):\n",
        "  x[i].reverse() #sublist sorting in reverse order\n",
        "#Normally:\n",
        "#x[1].reverse()\n",
        "#x[2].reverse()\n",
        "\n",
        "\n",
        "#Entire 2D list sorting in reverse order\n",
        "x.reverse()\n",
        "print(x)"
      ],
      "metadata": {
        "id": "EPYrSv1cE0YP",
        "colab": {
          "base_uri": "https://localhost:8080/"
        },
        "outputId": "92402c3d-b123-4a31-dcc7-5e078fd5a91f"
      },
      "execution_count": null,
      "outputs": [
        {
          "output_type": "stream",
          "name": "stdout",
          "text": [
            "[[5, 4, 6], [8, 9, 7], [3, 2, 1]]\n"
          ]
        }
      ]
    },
    {
      "cell_type": "markdown",
      "source": [
        "**How to delete values in 2D list?**\n",
        "**Use of .remove(), del keyword and .pop() methods in 2D list**"
      ],
      "metadata": {
        "id": "pJx6GQZT-2u2"
      }
    },
    {
      "cell_type": "markdown",
      "source": [
        "**pop method:**"
      ],
      "metadata": {
        "id": "ZDRKwabf7kh1"
      }
    },
    {
      "cell_type": "code",
      "source": [
        "#deleting value in 2D list using .pop() method\n",
        "\n",
        "\n",
        "\n",
        "Price_list = [[\"01\", \"Banana\", 5.00, \"unit\"],\n",
        "              [\"02\", \"Mango\", 20.00, \"kg\"],\n",
        "              [\"03\", \"Apple\", 15.00, \"kg\"],\n",
        "              [\"04\", \"Papaya\", 25.00, \"unit\"],\n",
        "              [\"05\", \"Guava\", 15.00, \"kg\"]]\n",
        "\n",
        "delete_ID = int(input(\"Which item no. do you wish to remove: \"))\n",
        "delete_ID = delete_ID - 1 #why?\n",
        "removed_value = Price_list.pop(delete_ID)\n",
        "print(\"Removed 1D list using .pop(): \", removed_value)\n",
        "#this removes an entire row, how to delete a specific value? Figure it out.\n",
        "print(\"Updated list using .pop(): \", Price_list)\n",
        "\n",
        "\n",
        "# We can delete particular values with .pop() in the following way:\n",
        "\n",
        "#Price_list[0].pop(3)\n",
        "#print(Price_list)\n",
        "\n"
      ],
      "metadata": {
        "colab": {
          "base_uri": "https://localhost:8080/"
        },
        "id": "apTJrSPb-16n",
        "outputId": "24123776-0dc9-49fe-9ffe-369f5f2a6959"
      },
      "execution_count": null,
      "outputs": [
        {
          "output_type": "stream",
          "name": "stdout",
          "text": [
            "Which item no. do you wish to remove: 4\n",
            "Removed 1D list using .pop():  ['04', 'Papaya', 25.0, 'unit']\n",
            "Updated list using .pop():  [['01', 'Banana', 5.0, 'unit'], ['02', 'Mango', 20.0, 'kg'], ['03', 'Apple', 15.0, 'kg'], ['05', 'Guava', 15.0, 'kg']]\n",
            "[['01', 'Banana', 'unit'], ['02', 'Mango', 20.0, 'kg'], ['03', 'Apple', 15.0, 'kg'], ['05', 'Guava', 15.0, 'kg']]\n"
          ]
        }
      ]
    },
    {
      "cell_type": "code",
      "source": [
        "#Using del keyword\n",
        "\n",
        "Price_list = [[\"01\", \"Banana\", 5.00, \"unit\"], [\"02\", \"Mango\", 20.00, \"kg\"],\n",
        "[\"03\", \"Apple\", 15.00, \"kg\"],\n",
        "[\"04\", \"Papaya\", 25.00, \"unit\"], [\"05\", \"Guava\", 15.00, \"kg\"]]\n",
        "\n",
        "del Price_list[2] #--> Delete entire 2nd row (index wise)\n",
        "del Price_list[2][2] #--> Delete only the [2][2] value (index wise)\n",
        "#del Price_list --> Delete the entire list from the memory\n",
        "\n",
        "\n",
        "\n",
        "print(\"After using del keyword: \",Price_list)"
      ],
      "metadata": {
        "colab": {
          "base_uri": "https://localhost:8080/"
        },
        "id": "luLWel04DDiQ",
        "outputId": "e73460bd-7e34-48fa-c88d-5596052b9397"
      },
      "execution_count": null,
      "outputs": [
        {
          "output_type": "stream",
          "name": "stdout",
          "text": [
            "After using del keyword:  [['01', 'Banana', 5.0, 'unit'], ['02', 'Mango', 20.0, 'kg'], ['04', 'Papaya', 'unit'], ['05', 'Guava', 15.0, 'kg']]\n"
          ]
        }
      ]
    },
    {
      "cell_type": "code",
      "source": [
        "#using .remove method\n",
        "\n",
        "Price_list = [[\"01\", \"Banana\", 5.00, \"unit\"], [\"02\", \"Mango\", 20.00, \"kg\"],\n",
        "[\"03\", \"Apple\", 15.00, \"kg\"],\n",
        "[\"04\", \"Papaya\", 25.00, \"unit\"], [\"05\", \"Guava\", 15.00, \"kg\"]]\n",
        "\n",
        "#Remove entire sublist\n",
        "#Price_list.remove([\"01\", \"Banana\", 5.00, \"unit\"])\n",
        "\n",
        "#Remove Particular value\n",
        "Price_list[2].remove(Price_list[2][2]) #Why Price_list[2][2]? Because in .remove(), we need to specify the value\n",
        "print(\"After using .remove()method: \",Price_list)"
      ],
      "metadata": {
        "colab": {
          "base_uri": "https://localhost:8080/"
        },
        "id": "9cvc81M7DI3A",
        "outputId": "fc17d7a6-a29e-4ca0-90aa-7716e5835e3b"
      },
      "execution_count": null,
      "outputs": [
        {
          "output_type": "stream",
          "name": "stdout",
          "text": [
            "[['02', 'Mango', 20.0, 'kg'], ['03', 'Apple', 15.0, 'kg'], ['04', 'Papaya', 25.0, 'unit'], ['05', 'Guava', 15.0, 'kg']]\n"
          ]
        }
      ]
    },
    {
      "cell_type": "markdown",
      "source": [
        "**Can we convert a 2D list into 1D list?**\n"
      ],
      "metadata": {
        "id": "gZibFr_D-WZY"
      }
    },
    {
      "cell_type": "code",
      "source": [
        "list_2d=[[7, 8, 9],[11,10, 12],[4, 5, 6],[1, 2, 3]]\n",
        "list1=[] #creating an empty list\n",
        "for i in range(len(list_2d)): #i will target row number\n",
        "   for j in range(len(list_2d[i])): #j will target particular values of a particular row\n",
        "       list1.append(list_2d[i][j])\n",
        "\n",
        "\n",
        "print(list1)\n",
        "\n"
      ],
      "metadata": {
        "colab": {
          "base_uri": "https://localhost:8080/"
        },
        "id": "SxQdZ_i5-w3I",
        "outputId": "9a85fdc9-0e36-42f9-ff8f-1aed48629fa5"
      },
      "execution_count": null,
      "outputs": [
        {
          "output_type": "stream",
          "name": "stdout",
          "text": [
            "[7, 8, 9, 11, 10, 12, 4, 5, 6, 1, 2, 3]\n"
          ]
        }
      ]
    },
    {
      "cell_type": "markdown",
      "source": [
        "**Need to show this after showing function**"
      ],
      "metadata": {
        "id": "Sh4IS-vc83nl"
      }
    },
    {
      "cell_type": "code",
      "source": [
        "account_list = [[\"01\",\"2110987\",\"Mahbubul Haq\",  100000],\n",
        "  [\"02\",\"8363564\",\"Abdur Rahim\",0],\n",
        "  [\"03\",\"6455372\",\"Sonda Sorna\",0],\n",
        "  [\"04\",\"3654538\",\"Mushruna Rahman\",200000]]\n",
        "\n",
        "#For proper formatting\n",
        "def better_formatting(x):\n",
        "  for i in range(len(x)):\n",
        "\n",
        "     #for string, count from left to right\n",
        "    #for int/float, count from right to left\n",
        "    print(\"{0:3}{1:12}{2:24} {3:9}\".format(x[i][0], x[i][1],x[i][2],x[i][3]))\n",
        "\n",
        "#menu driven program\n",
        "print(\"1-->Print the list normally\")\n",
        "print(\"2-->Print the list in a better format\")\n",
        "print(\"0-->Exit\")\n",
        "\n",
        "while True:\n",
        "  x = int(input(\"Enter your selection: \"))\n",
        "\n",
        "  if x == 1:\n",
        "    print(account_list) #print the list normally\n",
        "  elif x == 2:\n",
        "    better_formatting(account_list) #print the list in a better format\n",
        "  elif x == 0:\n",
        "    break\n",
        "  else:\n",
        "    print(\"You have given a wrong input, please select from the given list\")"
      ],
      "metadata": {
        "colab": {
          "base_uri": "https://localhost:8080/"
        },
        "id": "GhtXBppmbjgC",
        "outputId": "1f571e6d-5f6a-41ce-b0c7-be22d33dbbb7"
      },
      "execution_count": null,
      "outputs": [
        {
          "name": "stdout",
          "output_type": "stream",
          "text": [
            "1-->Print the list normally\n",
            "2-->Print the list in a better format\n",
            "0-->Exit\n",
            "Enter your selection: 10\n",
            "You have given a wrong input, please select from the given list\n",
            "Enter your selection: 1\n",
            "[['01', '2110987', 'Mahbubul Haq', 100000], ['02', '8363564', 'Abdur Rahim', 0], ['03', '6455372', 'Sonda Sorna', 0], ['04', '3654538', 'Mushruna Rahman', 200000]]\n",
            "Enter your selection: 2\n",
            "01 2110987     Mahbubul Haq                100000\n",
            "02 8363564     Abdur Rahim                      0\n",
            "03 6455372     Sonda Sorna                      0\n",
            "04 3654538     Mushruna Rahman             200000\n",
            "Enter your selection: 0\n"
          ]
        }
      ]
    }
  ]
}