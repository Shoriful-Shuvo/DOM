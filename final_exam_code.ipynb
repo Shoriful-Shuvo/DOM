{
  "nbformat": 4,
  "nbformat_minor": 0,
  "metadata": {
    "colab": {
      "provenance": [],
      "include_colab_link": true
    },
    "kernelspec": {
      "name": "python3",
      "display_name": "Python 3"
    },
    "language_info": {
      "name": "python"
    }
  },
  "cells": [
    {
      "cell_type": "markdown",
      "metadata": {
        "id": "view-in-github",
        "colab_type": "text"
      },
      "source": [
        "<a href=\"https://colab.research.google.com/github/Shoriful-Shuvo/DOM/blob/main/final_exam_code.ipynb\" target=\"_parent\"><img src=\"https://colab.research.google.com/assets/colab-badge.svg\" alt=\"Open In Colab\"/></a>"
      ]
    },
    {
      "cell_type": "code",
      "execution_count": null,
      "metadata": {
        "colab": {
          "base_uri": "https://localhost:8080/"
        },
        "id": "mQK4E-jKjwFR",
        "outputId": "e16fcd6f-0b06-402b-faab-d12d57e013d5"
      },
      "outputs": [
        {
          "output_type": "stream",
          "name": "stdout",
          "text": [
            "Enter an integer number: -676\n",
            "-676 is Not Prime Number\n"
          ]
        }
      ],
      "source": [
        "#prime number\n",
        "\n",
        "n = int(input(\"Enter an integer number: \"))\n",
        "\n",
        "if n<2:\n",
        "    print(\"{} is Not Prime Number\".format(n))\n",
        "else:\n",
        "    flag = False\n",
        "    for i in range(2,n//2):\n",
        "        if n%i==0:\n",
        "            print(n, \"can be devided by\",i)\n",
        "            flag = True\n",
        "            break\n",
        "    if flag:\n",
        "        print(\"{} is Not Prime Number\".format(n))\n",
        "    else:\n",
        "        print(\"{} is Prime Number\".format(n))\n",
        "\n"
      ]
    },
    {
      "cell_type": "code",
      "source": [
        "#leap year\n",
        "\n",
        "year = int(input(\"Enter a year: \"))\n",
        "\n",
        "if year%4==0 and (year%100):\n",
        "    print(\"{} is leap year\".format(year))\n",
        "elif year%400==0:\n",
        "    print(\"{} is leap year\".format(year))\n",
        "else:\n",
        "    print(\"{} is not leap year\".format(year))\n"
      ],
      "metadata": {
        "colab": {
          "base_uri": "https://localhost:8080/"
        },
        "id": "Wtp98BDslDOg",
        "outputId": "8e98dd64-e4f9-4e02-833b-c2f524a08c86"
      },
      "execution_count": null,
      "outputs": [
        {
          "output_type": "stream",
          "name": "stdout",
          "text": [
            "Enter a year: 2026\n",
            "2026 is not leap year\n"
          ]
        }
      ]
    },
    {
      "cell_type": "code",
      "source": [
        "#fibonacci series\n",
        "#0,1,1,2,3,5,8,13,21,34\n",
        "\n",
        "n = int(input(\"Enter an positive integer number:\"))\n",
        "febonacci_list = [0,1]\n",
        "\n",
        "if n<0:\n",
        "    print(0)\n",
        "elif n==0:\n",
        "    print(0)\n",
        "elif n==1 or n==2:\n",
        "    print(febonacci_list[:n])\n",
        "else:\n",
        "    n = n - 2\n",
        "    for i in range(n):\n",
        "        flen = len(febonacci_list)\n",
        "        nth_val = febonacci_list[flen-1]+febonacci_list[flen-2] #F(n) = F(n-1)+F(n-2)\n",
        "        febonacci_list.append(nth_val)\n",
        "\n",
        "    print(febonacci_list)\n"
      ],
      "metadata": {
        "id": "aSaapLUmlcta"
      },
      "execution_count": null,
      "outputs": []
    },
    {
      "cell_type": "code",
      "source": [
        "#n=1; print([n:=i*n for i in range(1,int(input())+1)][-1])\n",
        "\n",
        "n = int(input(\"Enter a positive integer: \"))\n",
        "p = 1\n",
        "\n",
        "for i in range(1,n+1):\n",
        "    p = p*i\n",
        "print(p)\n"
      ],
      "metadata": {
        "colab": {
          "base_uri": "https://localhost:8080/"
        },
        "id": "bLmyEeRxmE-e",
        "outputId": "cf3e9cbc-6cd8-45eb-f8ca-72d2cb116069"
      },
      "execution_count": null,
      "outputs": [
        {
          "output_type": "stream",
          "name": "stdout",
          "text": [
            "Enter a positive integer: 7\n",
            "5040\n"
          ]
        }
      ]
    }
  ]
}