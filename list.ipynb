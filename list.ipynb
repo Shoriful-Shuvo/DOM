{
  "nbformat": 4,
  "nbformat_minor": 0,
  "metadata": {
    "colab": {
      "provenance": [],
      "authorship_tag": "ABX9TyOiYOKl3gpWuTEjvpxuRSd4",
      "include_colab_link": true
    },
    "kernelspec": {
      "name": "python3",
      "display_name": "Python 3"
    },
    "language_info": {
      "name": "python"
    }
  },
  "cells": [
    {
      "cell_type": "markdown",
      "metadata": {
        "id": "view-in-github",
        "colab_type": "text"
      },
      "source": [
        "<a href=\"https://colab.research.google.com/github/Shoriful-Shuvo/learn-Python/blob/main/list.ipynb\" target=\"_parent\"><img src=\"https://colab.research.google.com/assets/colab-badge.svg\" alt=\"Open In Colab\"/></a>"
      ]
    },
    {
      "cell_type": "code",
      "execution_count": null,
      "metadata": {
        "colab": {
          "base_uri": "https://localhost:8080/"
        },
        "id": "K3s8eBrvwWVZ",
        "outputId": "dfe2d884-56d7-4194-9c0e-de25e322225f"
      },
      "outputs": [
        {
          "output_type": "stream",
          "name": "stdout",
          "text": [
            "Price List:\n",
            "-----------\n",
            " 1 Banana    5.0\n",
            " 2 Mango    20.0\n",
            " 3 Apple    15.0\n",
            " 4 Papaya   25.0\n",
            " 5 Guava    15.0\n"
          ]
        }
      ],
      "source": [
        "Price_list = [1,\"Banana\", 5.00, 2,\"Mango\", 20.00,3, \"Apple\", 15.00,4, \"Papaya\", 25.00, 5,\"Guava\", 15.00]\n",
        "print(\"Price List:\")\n",
        "print(\"-----------\")\n",
        "for i in range(0, len(Price_list), 3):\n",
        "  print(\"{0:2} {1:8} {2:4}\".format(Price_list[i],Price_list[i+1],Price_list[i+2]))"
      ]
    }
  ]
}